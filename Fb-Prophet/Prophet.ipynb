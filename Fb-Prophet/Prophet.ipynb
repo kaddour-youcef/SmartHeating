{
 "cells": [
  {
   "cell_type": "code",
   "execution_count": 2,
   "id": "younger-grave",
   "metadata": {},
   "outputs": [],
   "source": [
    "#https://stackoverflow.com/questions/54544285/is-it-possible-to-do-multivariate-multi-step-forecasting-using-fb-prophet"
   ]
  },
  {
   "cell_type": "code",
   "execution_count": 3,
   "id": "foster-border",
   "metadata": {
    "scrolled": false
   },
   "outputs": [
    {
     "data": {
      "text/html": [
       "<div>\n",
       "<style scoped>\n",
       "    .dataframe tbody tr th:only-of-type {\n",
       "        vertical-align: middle;\n",
       "    }\n",
       "\n",
       "    .dataframe tbody tr th {\n",
       "        vertical-align: top;\n",
       "    }\n",
       "\n",
       "    .dataframe thead th {\n",
       "        text-align: right;\n",
       "    }\n",
       "</style>\n",
       "<table border=\"1\" class=\"dataframe\">\n",
       "  <thead>\n",
       "    <tr style=\"text-align: right;\">\n",
       "      <th></th>\n",
       "      <th>Date/Time</th>\n",
       "      <th>Environment:Site Outdoor Air Drybulb Temperature [C](TimeStep)</th>\n",
       "      <th>TZ1 WORK:Zone Total Internal Total Heating Energy [J](TimeStep)</th>\n",
       "      <th>TZ2 MISC:Zone Total Internal Total Heating Energy [J](TimeStep)</th>\n",
       "      <th>TZ2 MISC:Zone People Occupant Count [](TimeStep)</th>\n",
       "      <th>TZ1 WORK:Zone People Occupant Count [](TimeStep)</th>\n",
       "      <th>TZ1 WORK:Zone Air Temperature [C](TimeStep)</th>\n",
       "      <th>TZ1 WORK:Zone Air Relative Humidity [%](TimeStep)</th>\n",
       "      <th>TZ1 WORK:Zone Thermostat Heating Setpoint Temperature [C](TimeStep)</th>\n",
       "      <th>TZ2 MISC:Zone Air Temperature [C](TimeStep)</th>\n",
       "      <th>TZ2 MISC:Zone Air Relative Humidity [%](TimeStep)</th>\n",
       "      <th>TZ2 MISC:Zone Thermostat Heating Setpoint Temperature [C](TimeStep)</th>\n",
       "      <th>Electricity:Facility [J](TimeStep)</th>\n",
       "    </tr>\n",
       "  </thead>\n",
       "  <tbody>\n",
       "    <tr>\n",
       "      <th>0</th>\n",
       "      <td>01/01  00:15:00</td>\n",
       "      <td>5.525</td>\n",
       "      <td>0.0</td>\n",
       "      <td>0.0</td>\n",
       "      <td>0.0</td>\n",
       "      <td>0.0</td>\n",
       "      <td>9.770882</td>\n",
       "      <td>76.143094</td>\n",
       "      <td>5.0</td>\n",
       "      <td>9.829624</td>\n",
       "      <td>75.747286</td>\n",
       "      <td>5.0</td>\n",
       "      <td>399403.710026</td>\n",
       "    </tr>\n",
       "    <tr>\n",
       "      <th>1</th>\n",
       "      <td>01/01  00:30:00</td>\n",
       "      <td>4.650</td>\n",
       "      <td>0.0</td>\n",
       "      <td>0.0</td>\n",
       "      <td>0.0</td>\n",
       "      <td>0.0</td>\n",
       "      <td>9.411920</td>\n",
       "      <td>75.085988</td>\n",
       "      <td>5.0</td>\n",
       "      <td>9.477746</td>\n",
       "      <td>74.615388</td>\n",
       "      <td>5.0</td>\n",
       "      <td>399403.710026</td>\n",
       "    </tr>\n",
       "    <tr>\n",
       "      <th>2</th>\n",
       "      <td>01/01  00:45:00</td>\n",
       "      <td>3.775</td>\n",
       "      <td>0.0</td>\n",
       "      <td>0.0</td>\n",
       "      <td>0.0</td>\n",
       "      <td>0.0</td>\n",
       "      <td>8.889536</td>\n",
       "      <td>72.230596</td>\n",
       "      <td>5.0</td>\n",
       "      <td>9.109182</td>\n",
       "      <td>70.758718</td>\n",
       "      <td>5.0</td>\n",
       "      <td>588098.616136</td>\n",
       "    </tr>\n",
       "    <tr>\n",
       "      <th>3</th>\n",
       "      <td>01/01  01:00:00</td>\n",
       "      <td>2.900</td>\n",
       "      <td>0.0</td>\n",
       "      <td>0.0</td>\n",
       "      <td>0.0</td>\n",
       "      <td>0.0</td>\n",
       "      <td>8.520465</td>\n",
       "      <td>68.961290</td>\n",
       "      <td>5.0</td>\n",
       "      <td>8.981167</td>\n",
       "      <td>66.327177</td>\n",
       "      <td>5.0</td>\n",
       "      <td>955577.310287</td>\n",
       "    </tr>\n",
       "    <tr>\n",
       "      <th>4</th>\n",
       "      <td>01/01  01:15:00</td>\n",
       "      <td>3.250</td>\n",
       "      <td>0.0</td>\n",
       "      <td>0.0</td>\n",
       "      <td>0.0</td>\n",
       "      <td>0.0</td>\n",
       "      <td>8.361641</td>\n",
       "      <td>67.085830</td>\n",
       "      <td>5.0</td>\n",
       "      <td>8.923836</td>\n",
       "      <td>64.141290</td>\n",
       "      <td>5.0</td>\n",
       "      <td>744308.659475</td>\n",
       "    </tr>\n",
       "  </tbody>\n",
       "</table>\n",
       "</div>"
      ],
      "text/plain": [
       "          Date/Time  \\\n",
       "0   01/01  00:15:00   \n",
       "1   01/01  00:30:00   \n",
       "2   01/01  00:45:00   \n",
       "3   01/01  01:00:00   \n",
       "4   01/01  01:15:00   \n",
       "\n",
       "   Environment:Site Outdoor Air Drybulb Temperature [C](TimeStep)  \\\n",
       "0                                              5.525                \n",
       "1                                              4.650                \n",
       "2                                              3.775                \n",
       "3                                              2.900                \n",
       "4                                              3.250                \n",
       "\n",
       "   TZ1 WORK:Zone Total Internal Total Heating Energy [J](TimeStep)  \\\n",
       "0                                                0.0                 \n",
       "1                                                0.0                 \n",
       "2                                                0.0                 \n",
       "3                                                0.0                 \n",
       "4                                                0.0                 \n",
       "\n",
       "   TZ2 MISC:Zone Total Internal Total Heating Energy [J](TimeStep)  \\\n",
       "0                                                0.0                 \n",
       "1                                                0.0                 \n",
       "2                                                0.0                 \n",
       "3                                                0.0                 \n",
       "4                                                0.0                 \n",
       "\n",
       "   TZ2 MISC:Zone People Occupant Count [](TimeStep)  \\\n",
       "0                                               0.0   \n",
       "1                                               0.0   \n",
       "2                                               0.0   \n",
       "3                                               0.0   \n",
       "4                                               0.0   \n",
       "\n",
       "   TZ1 WORK:Zone People Occupant Count [](TimeStep)  \\\n",
       "0                                               0.0   \n",
       "1                                               0.0   \n",
       "2                                               0.0   \n",
       "3                                               0.0   \n",
       "4                                               0.0   \n",
       "\n",
       "   TZ1 WORK:Zone Air Temperature [C](TimeStep)  \\\n",
       "0                                     9.770882   \n",
       "1                                     9.411920   \n",
       "2                                     8.889536   \n",
       "3                                     8.520465   \n",
       "4                                     8.361641   \n",
       "\n",
       "   TZ1 WORK:Zone Air Relative Humidity [%](TimeStep)  \\\n",
       "0                                          76.143094   \n",
       "1                                          75.085988   \n",
       "2                                          72.230596   \n",
       "3                                          68.961290   \n",
       "4                                          67.085830   \n",
       "\n",
       "   TZ1 WORK:Zone Thermostat Heating Setpoint Temperature [C](TimeStep)  \\\n",
       "0                                                5.0                     \n",
       "1                                                5.0                     \n",
       "2                                                5.0                     \n",
       "3                                                5.0                     \n",
       "4                                                5.0                     \n",
       "\n",
       "   TZ2 MISC:Zone Air Temperature [C](TimeStep)  \\\n",
       "0                                     9.829624   \n",
       "1                                     9.477746   \n",
       "2                                     9.109182   \n",
       "3                                     8.981167   \n",
       "4                                     8.923836   \n",
       "\n",
       "   TZ2 MISC:Zone Air Relative Humidity [%](TimeStep)  \\\n",
       "0                                          75.747286   \n",
       "1                                          74.615388   \n",
       "2                                          70.758718   \n",
       "3                                          66.327177   \n",
       "4                                          64.141290   \n",
       "\n",
       "   TZ2 MISC:Zone Thermostat Heating Setpoint Temperature [C](TimeStep)  \\\n",
       "0                                                5.0                     \n",
       "1                                                5.0                     \n",
       "2                                                5.0                     \n",
       "3                                                5.0                     \n",
       "4                                                5.0                     \n",
       "\n",
       "   Electricity:Facility [J](TimeStep)   \n",
       "0                        399403.710026  \n",
       "1                        399403.710026  \n",
       "2                        588098.616136  \n",
       "3                        955577.310287  \n",
       "4                        744308.659475  "
      ]
     },
     "execution_count": 3,
     "metadata": {},
     "output_type": "execute_result"
    }
   ],
   "source": [
    "import pandas as pd\n",
    "from fbprophet import Prophet\n",
    "\n",
    "data = pd.read_csv('jour.csv')\n",
    "data.head()"
   ]
  },
  {
   "cell_type": "code",
   "execution_count": 4,
   "id": "specified-liability",
   "metadata": {},
   "outputs": [
    {
     "data": {
      "text/plain": [
       "Date/Time                                                               object\n",
       "Environment:Site Outdoor Air Drybulb Temperature [C](TimeStep)         float64\n",
       "TZ1 WORK:Zone Total Internal Total Heating Energy [J](TimeStep)        float64\n",
       "TZ2 MISC:Zone Total Internal Total Heating Energy [J](TimeStep)        float64\n",
       "TZ2 MISC:Zone People Occupant Count [](TimeStep)                       float64\n",
       "TZ1 WORK:Zone People Occupant Count [](TimeStep)                       float64\n",
       "TZ1 WORK:Zone Air Temperature [C](TimeStep)                            float64\n",
       "TZ1 WORK:Zone Air Relative Humidity [%](TimeStep)                      float64\n",
       "TZ1 WORK:Zone Thermostat Heating Setpoint Temperature [C](TimeStep)    float64\n",
       "TZ2 MISC:Zone Air Temperature [C](TimeStep)                            float64\n",
       "TZ2 MISC:Zone Air Relative Humidity [%](TimeStep)                      float64\n",
       "TZ2 MISC:Zone Thermostat Heating Setpoint Temperature [C](TimeStep)    float64\n",
       "Electricity:Facility [J](TimeStep)                                     float64\n",
       "dtype: object"
      ]
     },
     "execution_count": 4,
     "metadata": {},
     "output_type": "execute_result"
    }
   ],
   "source": [
    "data.dtypes"
   ]
  },
  {
   "cell_type": "code",
   "execution_count": 5,
   "id": "conscious-villa",
   "metadata": {
    "scrolled": false
   },
   "outputs": [],
   "source": [
    "data_i=pd.DataFrame(data)\n",
    "data_i['Date/Time']=data_i['Date/Time'].apply(lambda x : x.split(' ')[1]+'/2018 '+ x.split(' ')[3])\n",
    "data_i['Date/Time']=data_i['Date/Time'].replace(['24:00:00'], '00:00:00')"
   ]
  },
  {
   "cell_type": "code",
   "execution_count": 6,
   "id": "legal-acrylic",
   "metadata": {},
   "outputs": [],
   "source": [
    "df_final = data.reset_index()[['Date/Time', 'Electricity:Facility [J](TimeStep) ']].rename({'Date/Time' : 'ds',\n",
    "                               'Electricity:Facility [J](TimeStep) ' : 'y'}, axis = 'columns')\n",
    "df_final['Date/Time']=df_final['ds'].replace(['24:00:00'], '00:00:00')\n",
    "df_final['ds'] = pd.to_datetime(df_final['ds'],format='%d/%m/%Y %H:%M:%S', errors = 'coerce')\n"
   ]
  },
  {
   "cell_type": "code",
   "execution_count": 7,
   "id": "adolescent-cradle",
   "metadata": {
    "scrolled": true
   },
   "outputs": [
    {
     "data": {
      "text/plain": [
       "0     2018-01-01 00:15:00\n",
       "1     2018-01-01 00:30:00\n",
       "2     2018-01-01 00:45:00\n",
       "3     2018-01-01 01:00:00\n",
       "4     2018-01-01 01:15:00\n",
       "              ...        \n",
       "187   2018-02-01 23:00:00\n",
       "188   2018-02-01 23:15:00\n",
       "189   2018-02-01 23:30:00\n",
       "190   2018-02-01 23:45:00\n",
       "191                   NaT\n",
       "Name: ds, Length: 192, dtype: datetime64[ns]"
      ]
     },
     "execution_count": 7,
     "metadata": {},
     "output_type": "execute_result"
    }
   ],
   "source": [
    "df_final['ds'] "
   ]
  },
  {
   "cell_type": "code",
   "execution_count": 11,
   "id": "nasty-implement",
   "metadata": {},
   "outputs": [
    {
     "name": "stderr",
     "output_type": "stream",
     "text": [
      "INFO:fbprophet:Disabling yearly seasonality. Run prophet with yearly_seasonality=True to override this.\n"
     ]
    },
    {
     "name": "stdout",
     "output_type": "stream",
     "text": [
      "                     ds\n",
      "0   2018-01-01 00:15:00\n",
      "1   2018-01-01 00:30:00\n",
      "2   2018-01-01 00:45:00\n",
      "3   2018-01-01 01:00:00\n",
      "4   2018-01-01 01:15:00\n",
      "..                  ...\n",
      "186 2018-02-01 23:00:00\n",
      "187 2018-02-01 23:15:00\n",
      "188 2018-02-01 23:30:00\n",
      "189 2018-02-01 23:45:00\n",
      "190 2018-02-02 23:45:00\n",
      "\n",
      "[191 rows x 1 columns]\n"
     ]
    },
    {
     "data": {
      "image/png": "[encoded data removed]",
      "text/plain": [
       "<Figure size 720x432 with 1 Axes>"
      ]
     },
     "metadata": {},
     "output_type": "display_data"
    }
   ],
   "source": [
    "period_in_hours = 24 # Heure * Nb de jours\n",
    "m = Prophet().fit(df_final.dropna())\n",
    "future = m.make_future_dataframe(periods=1 , freq='D')\n",
    "print(futureture)\n",
    "fcst = m.predict(future)\n",
    "fig = m.plot(fcst)\n"
   ]
  },
  {
   "cell_type": "code",
   "execution_count": 9,
   "id": "through-coordinate",
   "metadata": {},
   "outputs": [
    {
     "data": {
      "image/png": "[encoded data removed]",
      "text/plain": [
       "<Figure size 720x432 with 1 Axes>"
      ]
     },
     "metadata": {},
     "output_type": "display_data"
    }
   ],
   "source": [
    "fcst = m.predict(future)\n",
    "fig = m.plot(fcst)"
   ]
  },
  {
   "cell_type": "code",
   "execution_count": 10,
   "id": "nasty-marshall",
   "metadata": {},
   "outputs": [
    {
     "ename": "NameError",
     "evalue": "name 'px' is not defined",
     "output_type": "error",
     "traceback": [
      "\u001b[1;31m---------------------------------------------------------------------------\u001b[0m",
      "\u001b[1;31mNameError\u001b[0m                                 Traceback (most recent call last)",
      "\u001b[1;32m<ipython-input-10-8bf74c25617c>\u001b[0m in \u001b[0;36m<module>\u001b[1;34m\u001b[0m\n\u001b[1;32m----> 1\u001b[1;33m \u001b[0mfig\u001b[0m \u001b[1;33m=\u001b[0m \u001b[0mpx\u001b[0m\u001b[1;33m.\u001b[0m\u001b[0mline\u001b[0m\u001b[1;33m(\u001b[0m\u001b[0mdata_i\u001b[0m\u001b[1;33m.\u001b[0m\u001b[0minterpolate\u001b[0m\u001b[1;33m(\u001b[0m\u001b[1;33m)\u001b[0m\u001b[1;33m,\u001b[0m \u001b[0mx\u001b[0m \u001b[1;33m=\u001b[0m \u001b[1;34m'Date/Time'\u001b[0m\u001b[1;33m,\u001b[0m \u001b[0my\u001b[0m \u001b[1;33m=\u001b[0m \u001b[1;34m'Environment:Site Outdoor Air Drybulb Temperature [C](Hourly)'\u001b[0m\u001b[1;33m,\u001b[0m \u001b[0mtitle\u001b[0m\u001b[1;33m=\u001b[0m\u001b[1;34m'Outdoor Temperature missing value correction'\u001b[0m\u001b[1;33m)\u001b[0m\u001b[1;33m\u001b[0m\u001b[1;33m\u001b[0m\u001b[0m\n\u001b[0m\u001b[0;32m      2\u001b[0m \u001b[0mfig\u001b[0m\u001b[1;33m.\u001b[0m\u001b[0mupdate_traces\u001b[0m\u001b[1;33m(\u001b[0m\u001b[0mname\u001b[0m\u001b[1;33m=\u001b[0m\u001b[1;34m'Temp/miss_val'\u001b[0m\u001b[1;33m,\u001b[0m \u001b[0mshowlegend\u001b[0m \u001b[1;33m=\u001b[0m \u001b[1;32mTrue\u001b[0m\u001b[1;33m)\u001b[0m\u001b[1;33m\u001b[0m\u001b[1;33m\u001b[0m\u001b[0m\n",
      "\u001b[1;31mNameError\u001b[0m: name 'px' is not defined"
     ]
    }
   ],
   "source": [
    "fig = px.line(data_i.interpolate(), x = 'Date/Time', y = 'Environment:Site Outdoor Air Drybulb Temperature [C](Hourly)', title='Outdoor Temperature missing value correction')\n",
    "fig.update_traces(name='Temp/miss_val', showlegend = True)"
   ]
  },
  {
   "cell_type": "code",
   "execution_count": null,
   "id": "acknowledged-diploma",
   "metadata": {},
   "outputs": [],
   "source": [
    "fig2 = m.plot_components(forecast)\n"
   ]
  },
  {
   "cell_type": "code",
   "execution_count": null,
   "id": "alert-amino",
   "metadata": {},
   "outputs": [],
   "source": [
    "fig2 = m.plot_components(forecast)\n"
   ]
  },
  {
   "cell_type": "code",
   "execution_count": null,
   "id": "dangerous-while",
   "metadata": {
    "scrolled": true
   },
   "outputs": [],
   "source": [
    "m = Prophet(yearly_seasonality=True)"
   ]
  },
  {
   "cell_type": "code",
   "execution_count": null,
   "id": "cellular-treatment",
   "metadata": {
    "scrolled": false
   },
   "outputs": [],
   "source": [
    "m.fit(df_final.dropna())"
   ]
  },
  {
   "cell_type": "code",
   "execution_count": null,
   "id": "dental-nothing",
   "metadata": {},
   "outputs": [],
   "source": [
    "future = m.make_future_dataframe(periods=14)\n",
    "forecast = m.predict(future)\n",
    "forecast[['ds', 'yhat', 'yhat_lower', 'yhat_upper']].tail()\n"
   ]
  },
  {
   "cell_type": "code",
   "execution_count": null,
   "id": "emerging-appraisal",
   "metadata": {},
   "outputs": [],
   "source": [
    "fig1 = m.plot(forecast)"
   ]
  }
 ],
 "metadata": {
  "kernelspec": {
   "display_name": "Python 3",
   "language": "python",
   "name": "python3"
  },
  "language_info": {
   "codemirror_mode": {
    "name": "ipython",
    "version": 3
   },
   "file_extension": ".py",
   "mimetype": "text/x-python",
   "name": "python",
   "nbconvert_exporter": "python",
   "pygments_lexer": "ipython3",
   "version": "3.8.5"
  }
 },
 "nbformat": 4,
 "nbformat_minor": 5
}

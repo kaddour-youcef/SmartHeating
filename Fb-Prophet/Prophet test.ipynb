{
 "cells": [
  {
   "cell_type": "code",
   "execution_count": 36,
   "id": "cutting-resort",
   "metadata": {},
   "outputs": [],
   "source": [
    "#https://stackoverflow.com/questions/54544285/is-it-possible-to-do-multivariate-multi-step-forecasting-using-fb-prophet"
   ]
  },
  {
   "cell_type": "code",
   "execution_count": 37,
   "id": "baking-click",
   "metadata": {
    "scrolled": false
   },
   "outputs": [],
   "source": [
    "import pandas as pd\n",
    "from fbprophet import Prophet"
   ]
  },
  {
   "cell_type": "code",
   "execution_count": 38,
   "id": "diverse-directory",
   "metadata": {},
   "outputs": [],
   "source": [
    "data = pd.read_csv('data_jour.csv')"
   ]
  },
  {
   "cell_type": "code",
   "execution_count": 39,
   "id": "fixed-documentation",
   "metadata": {
    "scrolled": true
   },
   "outputs": [
    {
     "data": {
      "text/html": [
       "<div>\n",
       "<style scoped>\n",
       "    .dataframe tbody tr th:only-of-type {\n",
       "        vertical-align: middle;\n",
       "    }\n",
       "\n",
       "    .dataframe tbody tr th {\n",
       "        vertical-align: top;\n",
       "    }\n",
       "\n",
       "    .dataframe thead th {\n",
       "        text-align: right;\n",
       "    }\n",
       "</style>\n",
       "<table border=\"1\" class=\"dataframe\">\n",
       "  <thead>\n",
       "    <tr style=\"text-align: right;\">\n",
       "      <th></th>\n",
       "      <th>Date/Time</th>\n",
       "      <th>Environment:Site Outdoor Air Drybulb Temperature [C](TimeStep)</th>\n",
       "      <th>TZ2 MISC:Zone People Occupant Count [](TimeStep)</th>\n",
       "      <th>TZ1 WORK:Zone People Occupant Count [](TimeStep)</th>\n",
       "      <th>TZ1 WORK:Zone Air Temperature [C](TimeStep)</th>\n",
       "      <th>TZ1 WORK:Zone Thermostat Heating Setpoint Temperature [C](TimeStep)</th>\n",
       "      <th>TZ1 WORK:Zone Thermostat Cooling Setpoint Temperature [C](TimeStep)</th>\n",
       "      <th>TZ2 MISC:Zone Air Temperature [C](TimeStep)</th>\n",
       "      <th>TZ2 MISC:Zone Thermostat Heating Setpoint Temperature [C](TimeStep)</th>\n",
       "      <th>TZ2 MISC:Zone Thermostat Cooling Setpoint Temperature [C](TimeStep)</th>\n",
       "      <th>Electricity:Facility [J](TimeStep)</th>\n",
       "    </tr>\n",
       "  </thead>\n",
       "  <tbody>\n",
       "    <tr>\n",
       "      <th>0</th>\n",
       "      <td>01/01  00:15:00</td>\n",
       "      <td>5.525</td>\n",
       "      <td>0.0</td>\n",
       "      <td>0.0</td>\n",
       "      <td>10.954265</td>\n",
       "      <td>5.0</td>\n",
       "      <td>22.5</td>\n",
       "      <td>11.702454</td>\n",
       "      <td>5.0</td>\n",
       "      <td>35.0</td>\n",
       "      <td>296776.445126</td>\n",
       "    </tr>\n",
       "    <tr>\n",
       "      <th>1</th>\n",
       "      <td>01/01  00:30:00</td>\n",
       "      <td>4.650</td>\n",
       "      <td>0.0</td>\n",
       "      <td>0.0</td>\n",
       "      <td>10.836157</td>\n",
       "      <td>5.0</td>\n",
       "      <td>22.5</td>\n",
       "      <td>11.596719</td>\n",
       "      <td>5.0</td>\n",
       "      <td>35.0</td>\n",
       "      <td>296776.445126</td>\n",
       "    </tr>\n",
       "    <tr>\n",
       "      <th>2</th>\n",
       "      <td>01/01  00:45:00</td>\n",
       "      <td>3.775</td>\n",
       "      <td>0.0</td>\n",
       "      <td>0.0</td>\n",
       "      <td>10.702856</td>\n",
       "      <td>5.0</td>\n",
       "      <td>22.5</td>\n",
       "      <td>11.474617</td>\n",
       "      <td>5.0</td>\n",
       "      <td>35.0</td>\n",
       "      <td>296776.445126</td>\n",
       "    </tr>\n",
       "    <tr>\n",
       "      <th>3</th>\n",
       "      <td>01/01  01:00:00</td>\n",
       "      <td>2.900</td>\n",
       "      <td>0.0</td>\n",
       "      <td>0.0</td>\n",
       "      <td>10.549633</td>\n",
       "      <td>5.0</td>\n",
       "      <td>22.5</td>\n",
       "      <td>11.335958</td>\n",
       "      <td>5.0</td>\n",
       "      <td>35.0</td>\n",
       "      <td>296776.445126</td>\n",
       "    </tr>\n",
       "    <tr>\n",
       "      <th>4</th>\n",
       "      <td>01/01  01:15:00</td>\n",
       "      <td>3.250</td>\n",
       "      <td>0.0</td>\n",
       "      <td>0.0</td>\n",
       "      <td>10.460999</td>\n",
       "      <td>5.0</td>\n",
       "      <td>22.5</td>\n",
       "      <td>11.247975</td>\n",
       "      <td>5.0</td>\n",
       "      <td>35.0</td>\n",
       "      <td>296776.445126</td>\n",
       "    </tr>\n",
       "  </tbody>\n",
       "</table>\n",
       "</div>"
      ],
      "text/plain": [
       "          Date/Time  \\\n",
       "0   01/01  00:15:00   \n",
       "1   01/01  00:30:00   \n",
       "2   01/01  00:45:00   \n",
       "3   01/01  01:00:00   \n",
       "4   01/01  01:15:00   \n",
       "\n",
       "   Environment:Site Outdoor Air Drybulb Temperature [C](TimeStep)  \\\n",
       "0                                              5.525                \n",
       "1                                              4.650                \n",
       "2                                              3.775                \n",
       "3                                              2.900                \n",
       "4                                              3.250                \n",
       "\n",
       "   TZ2 MISC:Zone People Occupant Count [](TimeStep)  \\\n",
       "0                                               0.0   \n",
       "1                                               0.0   \n",
       "2                                               0.0   \n",
       "3                                               0.0   \n",
       "4                                               0.0   \n",
       "\n",
       "   TZ1 WORK:Zone People Occupant Count [](TimeStep)  \\\n",
       "0                                               0.0   \n",
       "1                                               0.0   \n",
       "2                                               0.0   \n",
       "3                                               0.0   \n",
       "4                                               0.0   \n",
       "\n",
       "   TZ1 WORK:Zone Air Temperature [C](TimeStep)  \\\n",
       "0                                    10.954265   \n",
       "1                                    10.836157   \n",
       "2                                    10.702856   \n",
       "3                                    10.549633   \n",
       "4                                    10.460999   \n",
       "\n",
       "   TZ1 WORK:Zone Thermostat Heating Setpoint Temperature [C](TimeStep)  \\\n",
       "0                                                5.0                     \n",
       "1                                                5.0                     \n",
       "2                                                5.0                     \n",
       "3                                                5.0                     \n",
       "4                                                5.0                     \n",
       "\n",
       "   TZ1 WORK:Zone Thermostat Cooling Setpoint Temperature [C](TimeStep)  \\\n",
       "0                                               22.5                     \n",
       "1                                               22.5                     \n",
       "2                                               22.5                     \n",
       "3                                               22.5                     \n",
       "4                                               22.5                     \n",
       "\n",
       "   TZ2 MISC:Zone Air Temperature [C](TimeStep)  \\\n",
       "0                                    11.702454   \n",
       "1                                    11.596719   \n",
       "2                                    11.474617   \n",
       "3                                    11.335958   \n",
       "4                                    11.247975   \n",
       "\n",
       "   TZ2 MISC:Zone Thermostat Heating Setpoint Temperature [C](TimeStep)  \\\n",
       "0                                                5.0                     \n",
       "1                                                5.0                     \n",
       "2                                                5.0                     \n",
       "3                                                5.0                     \n",
       "4                                                5.0                     \n",
       "\n",
       "   TZ2 MISC:Zone Thermostat Cooling Setpoint Temperature [C](TimeStep)  \\\n",
       "0                                               35.0                     \n",
       "1                                               35.0                     \n",
       "2                                               35.0                     \n",
       "3                                               35.0                     \n",
       "4                                               35.0                     \n",
       "\n",
       "   Electricity:Facility [J](TimeStep)   \n",
       "0                        296776.445126  \n",
       "1                        296776.445126  \n",
       "2                        296776.445126  \n",
       "3                        296776.445126  \n",
       "4                        296776.445126  "
      ]
     },
     "execution_count": 39,
     "metadata": {},
     "output_type": "execute_result"
    }
   ],
   "source": [
    "data.head()"
   ]
  },
  {
   "cell_type": "code",
   "execution_count": 40,
   "id": "quarterly-architect",
   "metadata": {},
   "outputs": [
    {
     "data": {
      "text/html": [
       "<div>\n",
       "<style scoped>\n",
       "    .dataframe tbody tr th:only-of-type {\n",
       "        vertical-align: middle;\n",
       "    }\n",
       "\n",
       "    .dataframe tbody tr th {\n",
       "        vertical-align: top;\n",
       "    }\n",
       "\n",
       "    .dataframe thead th {\n",
       "        text-align: right;\n",
       "    }\n",
       "</style>\n",
       "<table border=\"1\" class=\"dataframe\">\n",
       "  <thead>\n",
       "    <tr style=\"text-align: right;\">\n",
       "      <th></th>\n",
       "      <th>Date/Time</th>\n",
       "      <th>Environment:Site Outdoor Air Drybulb Temperature [C](TimeStep)</th>\n",
       "      <th>TZ2 MISC:Zone People Occupant Count [](TimeStep)</th>\n",
       "      <th>TZ1 WORK:Zone People Occupant Count [](TimeStep)</th>\n",
       "      <th>TZ1 WORK:Zone Air Temperature [C](TimeStep)</th>\n",
       "      <th>TZ1 WORK:Zone Thermostat Heating Setpoint Temperature [C](TimeStep)</th>\n",
       "      <th>TZ1 WORK:Zone Thermostat Cooling Setpoint Temperature [C](TimeStep)</th>\n",
       "      <th>TZ2 MISC:Zone Air Temperature [C](TimeStep)</th>\n",
       "      <th>TZ2 MISC:Zone Thermostat Heating Setpoint Temperature [C](TimeStep)</th>\n",
       "      <th>TZ2 MISC:Zone Thermostat Cooling Setpoint Temperature [C](TimeStep)</th>\n",
       "      <th>Electricity:Facility [J](TimeStep)</th>\n",
       "    </tr>\n",
       "  </thead>\n",
       "  <tbody>\n",
       "    <tr>\n",
       "      <th>187</th>\n",
       "      <td>01/02  23:00:00</td>\n",
       "      <td>2.300</td>\n",
       "      <td>0.0</td>\n",
       "      <td>0.0</td>\n",
       "      <td>10.147827</td>\n",
       "      <td>5.0</td>\n",
       "      <td>22.5</td>\n",
       "      <td>11.007921</td>\n",
       "      <td>5.0</td>\n",
       "      <td>35.0</td>\n",
       "      <td>296776.445126</td>\n",
       "    </tr>\n",
       "    <tr>\n",
       "      <th>188</th>\n",
       "      <td>01/02  23:15:00</td>\n",
       "      <td>2.275</td>\n",
       "      <td>0.0</td>\n",
       "      <td>0.0</td>\n",
       "      <td>10.093503</td>\n",
       "      <td>5.0</td>\n",
       "      <td>22.5</td>\n",
       "      <td>10.951416</td>\n",
       "      <td>5.0</td>\n",
       "      <td>35.0</td>\n",
       "      <td>296776.445126</td>\n",
       "    </tr>\n",
       "    <tr>\n",
       "      <th>189</th>\n",
       "      <td>01/02  23:30:00</td>\n",
       "      <td>2.250</td>\n",
       "      <td>0.0</td>\n",
       "      <td>0.0</td>\n",
       "      <td>10.022614</td>\n",
       "      <td>5.0</td>\n",
       "      <td>22.5</td>\n",
       "      <td>10.883589</td>\n",
       "      <td>5.0</td>\n",
       "      <td>35.0</td>\n",
       "      <td>296776.445126</td>\n",
       "    </tr>\n",
       "    <tr>\n",
       "      <th>190</th>\n",
       "      <td>01/02  23:45:00</td>\n",
       "      <td>2.225</td>\n",
       "      <td>0.0</td>\n",
       "      <td>0.0</td>\n",
       "      <td>9.953563</td>\n",
       "      <td>5.0</td>\n",
       "      <td>22.5</td>\n",
       "      <td>10.813849</td>\n",
       "      <td>5.0</td>\n",
       "      <td>35.0</td>\n",
       "      <td>296776.445126</td>\n",
       "    </tr>\n",
       "    <tr>\n",
       "      <th>191</th>\n",
       "      <td>01/02  24:00:00</td>\n",
       "      <td>2.200</td>\n",
       "      <td>0.0</td>\n",
       "      <td>0.0</td>\n",
       "      <td>9.893597</td>\n",
       "      <td>5.0</td>\n",
       "      <td>22.5</td>\n",
       "      <td>10.750897</td>\n",
       "      <td>5.0</td>\n",
       "      <td>35.0</td>\n",
       "      <td>296776.445126</td>\n",
       "    </tr>\n",
       "  </tbody>\n",
       "</table>\n",
       "</div>"
      ],
      "text/plain": [
       "            Date/Time  \\\n",
       "187   01/02  23:00:00   \n",
       "188   01/02  23:15:00   \n",
       "189   01/02  23:30:00   \n",
       "190   01/02  23:45:00   \n",
       "191   01/02  24:00:00   \n",
       "\n",
       "     Environment:Site Outdoor Air Drybulb Temperature [C](TimeStep)  \\\n",
       "187                                              2.300                \n",
       "188                                              2.275                \n",
       "189                                              2.250                \n",
       "190                                              2.225                \n",
       "191                                              2.200                \n",
       "\n",
       "     TZ2 MISC:Zone People Occupant Count [](TimeStep)  \\\n",
       "187                                               0.0   \n",
       "188                                               0.0   \n",
       "189                                               0.0   \n",
       "190                                               0.0   \n",
       "191                                               0.0   \n",
       "\n",
       "     TZ1 WORK:Zone People Occupant Count [](TimeStep)  \\\n",
       "187                                               0.0   \n",
       "188                                               0.0   \n",
       "189                                               0.0   \n",
       "190                                               0.0   \n",
       "191                                               0.0   \n",
       "\n",
       "     TZ1 WORK:Zone Air Temperature [C](TimeStep)  \\\n",
       "187                                    10.147827   \n",
       "188                                    10.093503   \n",
       "189                                    10.022614   \n",
       "190                                     9.953563   \n",
       "191                                     9.893597   \n",
       "\n",
       "     TZ1 WORK:Zone Thermostat Heating Setpoint Temperature [C](TimeStep)  \\\n",
       "187                                                5.0                     \n",
       "188                                                5.0                     \n",
       "189                                                5.0                     \n",
       "190                                                5.0                     \n",
       "191                                                5.0                     \n",
       "\n",
       "     TZ1 WORK:Zone Thermostat Cooling Setpoint Temperature [C](TimeStep)  \\\n",
       "187                                               22.5                     \n",
       "188                                               22.5                     \n",
       "189                                               22.5                     \n",
       "190                                               22.5                     \n",
       "191                                               22.5                     \n",
       "\n",
       "     TZ2 MISC:Zone Air Temperature [C](TimeStep)  \\\n",
       "187                                    11.007921   \n",
       "188                                    10.951416   \n",
       "189                                    10.883589   \n",
       "190                                    10.813849   \n",
       "191                                    10.750897   \n",
       "\n",
       "     TZ2 MISC:Zone Thermostat Heating Setpoint Temperature [C](TimeStep)  \\\n",
       "187                                                5.0                     \n",
       "188                                                5.0                     \n",
       "189                                                5.0                     \n",
       "190                                                5.0                     \n",
       "191                                                5.0                     \n",
       "\n",
       "     TZ2 MISC:Zone Thermostat Cooling Setpoint Temperature [C](TimeStep)  \\\n",
       "187                                               35.0                     \n",
       "188                                               35.0                     \n",
       "189                                               35.0                     \n",
       "190                                               35.0                     \n",
       "191                                               35.0                     \n",
       "\n",
       "     Electricity:Facility [J](TimeStep)   \n",
       "187                        296776.445126  \n",
       "188                        296776.445126  \n",
       "189                        296776.445126  \n",
       "190                        296776.445126  \n",
       "191                        296776.445126  "
      ]
     },
     "execution_count": 40,
     "metadata": {},
     "output_type": "execute_result"
    }
   ],
   "source": [
    "data.tail()"
   ]
  },
  {
   "cell_type": "code",
   "execution_count": 41,
   "id": "pressing-furniture",
   "metadata": {},
   "outputs": [
    {
     "data": {
      "text/plain": [
       "Index(['Date/Time',\n",
       "       'Environment:Site Outdoor Air Drybulb Temperature [C](TimeStep)',\n",
       "       'TZ2 MISC:Zone People Occupant Count [](TimeStep)',\n",
       "       'TZ1 WORK:Zone People Occupant Count [](TimeStep)',\n",
       "       'TZ1 WORK:Zone Air Temperature [C](TimeStep)',\n",
       "       'TZ1 WORK:Zone Thermostat Heating Setpoint Temperature [C](TimeStep)',\n",
       "       'TZ1 WORK:Zone Thermostat Cooling Setpoint Temperature [C](TimeStep)',\n",
       "       'TZ2 MISC:Zone Air Temperature [C](TimeStep)',\n",
       "       'TZ2 MISC:Zone Thermostat Heating Setpoint Temperature [C](TimeStep)',\n",
       "       'TZ2 MISC:Zone Thermostat Cooling Setpoint Temperature [C](TimeStep)',\n",
       "       'Electricity:Facility [J](TimeStep) '],\n",
       "      dtype='object')"
      ]
     },
     "execution_count": 41,
     "metadata": {},
     "output_type": "execute_result"
    }
   ],
   "source": [
    "data.columns"
   ]
  },
  {
   "cell_type": "code",
   "execution_count": 42,
   "id": "returning-factory",
   "metadata": {},
   "outputs": [],
   "source": [
    "df_final = data.reset_index()[['Date/Time', \n",
    "                               'Electricity:Facility [J](TimeStep) ',\n",
    "                               'Environment:Site Outdoor Air Drybulb Temperature [C](TimeStep)',\n",
    "                               'TZ2 MISC:Zone People Occupant Count [](TimeStep)',\n",
    "                               'TZ1 WORK:Zone People Occupant Count [](TimeStep)',\n",
    "                               'TZ1 WORK:Zone Air Temperature [C](TimeStep)',\n",
    "                               'TZ2 MISC:Zone Air Temperature [C](TimeStep)',\n",
    "                              'TZ1 WORK:Zone Thermostat Heating Setpoint Temperature [C](TimeStep)',\n",
    "                              'TZ2 MISC:Zone Thermostat Heating Setpoint Temperature [C](TimeStep)']].rename({'Date/Time' : 'ds',\n",
    "                               'Electricity:Facility [J](TimeStep) ' : 'y',\n",
    "                               'Environment:Site Outdoor Air Drybulb Temperature [C](TimeStep)' : 'temp',\n",
    "                               'TZ2 MISC:Zone People Occupant Count [](TimeStep)' : 'occ1',\n",
    "                               'TZ1 WORK:Zone People Occupant Count [](TimeStep)' : 'occ2',\n",
    "                               'TZ1 WORK:Zone Air Temperature [C](TimeStep)'     : 'tempi1',\n",
    "                               'TZ2 MISC:Zone Air Temperature [C](TimeStep)'     : 'tempi2', \n",
    "                               'TZ1 WORK:Zone Thermostat Heating Setpoint Temperature [C](TimeStep)' :'termo1',\n",
    "                                'TZ2 MISC:Zone Thermostat Heating Setpoint Temperature [C](TimeStep)' : 'termo2'}, axis = 'columns')"
   ]
  },
  {
   "cell_type": "code",
   "execution_count": 43,
   "id": "monetary-chick",
   "metadata": {},
   "outputs": [],
   "source": [
    "data['Date/Time']=data['Date/Time'].apply(lambda x :  x.split(' ')[1]+'/2018 '+ x.split(' ')[3])"
   ]
  },
  {
   "cell_type": "code",
   "execution_count": 44,
   "id": "vital-tenant",
   "metadata": {},
   "outputs": [
    {
     "data": {
      "text/plain": [
       "0     2018-01-01 00:15:00\n",
       "1     2018-01-01 00:30:00\n",
       "2     2018-01-01 00:45:00\n",
       "3     2018-01-01 01:00:00\n",
       "4     2018-01-01 01:15:00\n",
       "              ...        \n",
       "187   2018-01-02 23:00:00\n",
       "188   2018-01-02 23:15:00\n",
       "189   2018-01-02 23:30:00\n",
       "190   2018-01-02 23:45:00\n",
       "191                   NaT\n",
       "Name: Date/Time, Length: 192, dtype: datetime64[ns]"
      ]
     },
     "execution_count": 44,
     "metadata": {},
     "output_type": "execute_result"
    }
   ],
   "source": [
    "pd.to_datetime(data['Date/Time'], errors = 'coerce')"
   ]
  },
  {
   "cell_type": "code",
   "execution_count": 45,
   "id": "attached-leader",
   "metadata": {},
   "outputs": [],
   "source": [
    "df_final['ds'] = pd.to_datetime(data['Date/Time'],format='%m/%d/%Y %H:%M:%S', errors = 'coerce')"
   ]
  },
  {
   "cell_type": "code",
   "execution_count": 46,
   "id": "copyrighted-equality",
   "metadata": {},
   "outputs": [
    {
     "data": {
      "text/plain": [
       "0     2018-01-01 00:15:00\n",
       "1     2018-01-01 00:30:00\n",
       "2     2018-01-01 00:45:00\n",
       "3     2018-01-01 01:00:00\n",
       "4     2018-01-01 01:15:00\n",
       "              ...        \n",
       "187   2018-01-02 23:00:00\n",
       "188   2018-01-02 23:15:00\n",
       "189   2018-01-02 23:30:00\n",
       "190   2018-01-02 23:45:00\n",
       "191                   NaT\n",
       "Name: ds, Length: 192, dtype: datetime64[ns]"
      ]
     },
     "execution_count": 46,
     "metadata": {},
     "output_type": "execute_result"
    }
   ],
   "source": [
    "df_final['ds'] "
   ]
  },
  {
   "cell_type": "code",
   "execution_count": 47,
   "id": "obvious-combination",
   "metadata": {},
   "outputs": [],
   "source": [
    "test= pd.read_csv('data_test_jour.csv')\n",
    "df_test = test.reset_index()[[\n",
    "                               'Environment:Site Outdoor Air Drybulb Temperature [C](TimeStep)',\n",
    "                               'TZ2 MISC:Zone People Occupant Count [](TimeStep)',\n",
    "                               'TZ1 WORK:Zone People Occupant Count [](TimeStep)',\n",
    "                               'TZ1 WORK:Zone Air Temperature [C](TimeStep)',\n",
    "                               'TZ2 MISC:Zone Air Temperature [C](TimeStep)',\n",
    "                              'TZ1 WORK:Zone Thermostat Heating Setpoint Temperature [C](TimeStep)',\n",
    "                              'TZ2 MISC:Zone Thermostat Heating Setpoint Temperature [C](TimeStep)']].rename({\n",
    "                               'Environment:Site Outdoor Air Drybulb Temperature [C](TimeStep)' : 'temp',\n",
    "                               'TZ2 MISC:Zone People Occupant Count [](TimeStep)' : 'occ1',\n",
    "                               'TZ1 WORK:Zone People Occupant Count [](TimeStep)' : 'occ2',\n",
    "                               'TZ1 WORK:Zone Air Temperature [C](TimeStep)'     : 'tempi1',\n",
    "                               'TZ2 MISC:Zone Air Temperature [C](TimeStep)'     : 'tempi2', \n",
    "                               'TZ1 WORK:Zone Thermostat Heating Setpoint Temperature [C](TimeStep)' :'termo1',\n",
    "                                'TZ2 MISC:Zone Thermostat Heating Setpoint Temperature [C](TimeStep)' : 'termo2'}, axis = 'columns')"
   ]
  },
  {
   "cell_type": "code",
   "execution_count": null,
   "id": "olympic-istanbul",
   "metadata": {},
   "outputs": [],
   "source": []
  },
  {
   "cell_type": "code",
   "execution_count": 48,
   "id": "unauthorized-health",
   "metadata": {},
   "outputs": [
    {
     "data": {
      "text/plain": [
       "<fbprophet.forecaster.Prophet at 0x2436f2ff070>"
      ]
     },
     "execution_count": 48,
     "metadata": {},
     "output_type": "execute_result"
    }
   ],
   "source": [
    "m = Prophet(interval_width=0.95)\n",
    "m.add_regressor('temp', standardize= False)\n",
    "m.add_regressor('occ1', standardize= False)\n",
    "m.add_regressor('occ2', standardize= False)\n",
    "m.add_regressor('tempi1', standardize= False)\n",
    "m.add_regressor('tempi1', standardize= False)\n",
    "m.add_regressor('termo1', standardize= False)\n",
    "m.add_regressor('termo2', standardize= False)"
   ]
  },
  {
   "cell_type": "code",
   "execution_count": 49,
   "id": "widespread-vancouver",
   "metadata": {},
   "outputs": [
    {
     "name": "stderr",
     "output_type": "stream",
     "text": [
      "INFO:fbprophet:Disabling yearly seasonality. Run prophet with yearly_seasonality=True to override this.\n",
      "INFO:fbprophet:Disabling weekly seasonality. Run prophet with weekly_seasonality=True to override this.\n",
      "INFO:fbprophet:Disabling daily seasonality. Run prophet with daily_seasonality=True to override this.\n"
     ]
    },
    {
     "data": {
      "text/plain": [
       "<fbprophet.forecaster.Prophet at 0x2436f2ff070>"
      ]
     },
     "execution_count": 49,
     "metadata": {},
     "output_type": "execute_result"
    }
   ],
   "source": [
    "m.fit(df_final.dropna())"
   ]
  },
  {
   "cell_type": "code",
   "execution_count": 50,
   "id": "silver-market",
   "metadata": {},
   "outputs": [
    {
     "data": {
      "text/html": [
       "<div>\n",
       "<style scoped>\n",
       "    .dataframe tbody tr th:only-of-type {\n",
       "        vertical-align: middle;\n",
       "    }\n",
       "\n",
       "    .dataframe tbody tr th {\n",
       "        vertical-align: top;\n",
       "    }\n",
       "\n",
       "    .dataframe thead th {\n",
       "        text-align: right;\n",
       "    }\n",
       "</style>\n",
       "<table border=\"1\" class=\"dataframe\">\n",
       "  <thead>\n",
       "    <tr style=\"text-align: right;\">\n",
       "      <th></th>\n",
       "      <th>ds</th>\n",
       "      <th>y</th>\n",
       "      <th>temp</th>\n",
       "      <th>occ1</th>\n",
       "      <th>occ2</th>\n",
       "      <th>tempi1</th>\n",
       "      <th>tempi2</th>\n",
       "      <th>termo1</th>\n",
       "      <th>termo2</th>\n",
       "    </tr>\n",
       "  </thead>\n",
       "  <tbody>\n",
       "    <tr>\n",
       "      <th>281</th>\n",
       "      <td>2018-01-03 22:45:00</td>\n",
       "      <td>NaN</td>\n",
       "      <td>3.150</td>\n",
       "      <td>0.0</td>\n",
       "      <td>0.0</td>\n",
       "      <td>10.637632</td>\n",
       "      <td>11.475399</td>\n",
       "      <td>5.0</td>\n",
       "      <td>5.0</td>\n",
       "    </tr>\n",
       "    <tr>\n",
       "      <th>282</th>\n",
       "      <td>2018-01-03 23:00:00</td>\n",
       "      <td>NaN</td>\n",
       "      <td>3.075</td>\n",
       "      <td>0.0</td>\n",
       "      <td>0.0</td>\n",
       "      <td>10.480473</td>\n",
       "      <td>11.297259</td>\n",
       "      <td>5.0</td>\n",
       "      <td>5.0</td>\n",
       "    </tr>\n",
       "    <tr>\n",
       "      <th>283</th>\n",
       "      <td>2018-01-03 23:15:00</td>\n",
       "      <td>NaN</td>\n",
       "      <td>3.000</td>\n",
       "      <td>0.0</td>\n",
       "      <td>0.0</td>\n",
       "      <td>10.396477</td>\n",
       "      <td>11.201035</td>\n",
       "      <td>5.0</td>\n",
       "      <td>5.0</td>\n",
       "    </tr>\n",
       "    <tr>\n",
       "      <th>284</th>\n",
       "      <td>2018-01-03 23:30:00</td>\n",
       "      <td>NaN</td>\n",
       "      <td>2.950</td>\n",
       "      <td>0.0</td>\n",
       "      <td>0.0</td>\n",
       "      <td>10.321509</td>\n",
       "      <td>11.125879</td>\n",
       "      <td>5.0</td>\n",
       "      <td>5.0</td>\n",
       "    </tr>\n",
       "    <tr>\n",
       "      <th>285</th>\n",
       "      <td>2018-01-03 23:45:00</td>\n",
       "      <td>NaN</td>\n",
       "      <td>2.900</td>\n",
       "      <td>0.0</td>\n",
       "      <td>0.0</td>\n",
       "      <td>10.242823</td>\n",
       "      <td>11.050153</td>\n",
       "      <td>5.0</td>\n",
       "      <td>5.0</td>\n",
       "    </tr>\n",
       "  </tbody>\n",
       "</table>\n",
       "</div>"
      ],
      "text/plain": [
       "                     ds   y   temp  occ1  occ2     tempi1     tempi2  termo1  \\\n",
       "281 2018-01-03 22:45:00 NaN  3.150   0.0   0.0  10.637632  11.475399     5.0   \n",
       "282 2018-01-03 23:00:00 NaN  3.075   0.0   0.0  10.480473  11.297259     5.0   \n",
       "283 2018-01-03 23:15:00 NaN  3.000   0.0   0.0  10.396477  11.201035     5.0   \n",
       "284 2018-01-03 23:30:00 NaN  2.950   0.0   0.0  10.321509  11.125879     5.0   \n",
       "285 2018-01-03 23:45:00 NaN  2.900   0.0   0.0  10.242823  11.050153     5.0   \n",
       "\n",
       "     termo2  \n",
       "281     5.0  \n",
       "282     5.0  \n",
       "283     5.0  \n",
       "284     5.0  \n",
       "285     5.0  "
      ]
     },
     "execution_count": 50,
     "metadata": {},
     "output_type": "execute_result"
    }
   ],
   "source": [
    "future = m.make_future_dataframe(periods=24*4, freq='15min')\n",
    "future[\"y\"] = df_final[\"y\"]\n",
    "future[\"temp\"] = df_test['temp']\n",
    "future[\"occ1\"] = df_test['occ1']\n",
    "future[\"occ2\"] = df_test['occ2']\n",
    "future[\"tempi1\"] = df_test['tempi1']\n",
    "future[\"tempi2\"] = df_test['tempi2']\n",
    "future[\"termo1\"] = df_test['termo1']\n",
    "future[\"termo2\"] = df_test['termo2']\n",
    "future.tail()\n"
   ]
  },
  {
   "cell_type": "code",
   "execution_count": 51,
   "id": "amended-citizenship",
   "metadata": {},
   "outputs": [
    {
     "name": "stderr",
     "output_type": "stream",
     "text": [
      "Exception ignored in: <function tqdm.__del__ at 0x00000243695021F0>\n",
      "Traceback (most recent call last):\n",
      "  File \"C:\\Users\\ykaddour\\Miniconda3\\lib\\site-packages\\tqdm\\std.py\", line 1128, in __del__\n",
      "    self.close()\n",
      "  File \"C:\\Users\\ykaddour\\Miniconda3\\lib\\site-packages\\tqdm\\notebook.py\", line 261, in close\n",
      "    self.sp(bar_style='danger')\n",
      "AttributeError: 'tqdm' object has no attribute 'sp'\n",
      "Exception ignored in: <function tqdm.__del__ at 0x00000243695021F0>\n",
      "Traceback (most recent call last):\n",
      "  File \"C:\\Users\\ykaddour\\Miniconda3\\lib\\site-packages\\tqdm\\std.py\", line 1128, in __del__\n",
      "    self.close()\n",
      "  File \"C:\\Users\\ykaddour\\Miniconda3\\lib\\site-packages\\tqdm\\notebook.py\", line 261, in close\n",
      "    self.sp(bar_style='danger')\n",
      "AttributeError: 'tqdm' object has no attribute 'sp'\n",
      "Exception ignored in: <function tqdm.__del__ at 0x00000243695021F0>\n",
      "Traceback (most recent call last):\n",
      "  File \"C:\\Users\\ykaddour\\Miniconda3\\lib\\site-packages\\tqdm\\std.py\", line 1128, in __del__\n",
      "    self.close()\n",
      "  File \"C:\\Users\\ykaddour\\Miniconda3\\lib\\site-packages\\tqdm\\notebook.py\", line 261, in close\n",
      "    self.sp(bar_style='danger')\n",
      "AttributeError: 'tqdm' object has no attribute 'sp'\n"
     ]
    },
    {
     "data": {
      "text/html": [
       "<div>\n",
       "<style scoped>\n",
       "    .dataframe tbody tr th:only-of-type {\n",
       "        vertical-align: middle;\n",
       "    }\n",
       "\n",
       "    .dataframe tbody tr th {\n",
       "        vertical-align: top;\n",
       "    }\n",
       "\n",
       "    .dataframe thead th {\n",
       "        text-align: right;\n",
       "    }\n",
       "</style>\n",
       "<table border=\"1\" class=\"dataframe\">\n",
       "  <thead>\n",
       "    <tr style=\"text-align: right;\">\n",
       "      <th></th>\n",
       "      <th>ds</th>\n",
       "      <th>yhat</th>\n",
       "      <th>yhat_lower</th>\n",
       "      <th>yhat_upper</th>\n",
       "    </tr>\n",
       "  </thead>\n",
       "  <tbody>\n",
       "    <tr>\n",
       "      <th>281</th>\n",
       "      <td>2018-01-03 22:45:00</td>\n",
       "      <td>-1.396308e+06</td>\n",
       "      <td>-2.426504e+06</td>\n",
       "      <td>-345283.922440</td>\n",
       "    </tr>\n",
       "    <tr>\n",
       "      <th>282</th>\n",
       "      <td>2018-01-03 23:00:00</td>\n",
       "      <td>-1.417056e+06</td>\n",
       "      <td>-2.464273e+06</td>\n",
       "      <td>-431226.517055</td>\n",
       "    </tr>\n",
       "    <tr>\n",
       "      <th>283</th>\n",
       "      <td>2018-01-03 23:15:00</td>\n",
       "      <td>-1.434944e+06</td>\n",
       "      <td>-2.560038e+06</td>\n",
       "      <td>-392512.637273</td>\n",
       "    </tr>\n",
       "    <tr>\n",
       "      <th>284</th>\n",
       "      <td>2018-01-03 23:30:00</td>\n",
       "      <td>-1.453563e+06</td>\n",
       "      <td>-2.559680e+06</td>\n",
       "      <td>-428276.069179</td>\n",
       "    </tr>\n",
       "    <tr>\n",
       "      <th>285</th>\n",
       "      <td>2018-01-03 23:45:00</td>\n",
       "      <td>-1.472327e+06</td>\n",
       "      <td>-2.558140e+06</td>\n",
       "      <td>-400851.939662</td>\n",
       "    </tr>\n",
       "  </tbody>\n",
       "</table>\n",
       "</div>"
      ],
      "text/plain": [
       "                     ds          yhat    yhat_lower     yhat_upper\n",
       "281 2018-01-03 22:45:00 -1.396308e+06 -2.426504e+06 -345283.922440\n",
       "282 2018-01-03 23:00:00 -1.417056e+06 -2.464273e+06 -431226.517055\n",
       "283 2018-01-03 23:15:00 -1.434944e+06 -2.560038e+06 -392512.637273\n",
       "284 2018-01-03 23:30:00 -1.453563e+06 -2.559680e+06 -428276.069179\n",
       "285 2018-01-03 23:45:00 -1.472327e+06 -2.558140e+06 -400851.939662"
      ]
     },
     "execution_count": 51,
     "metadata": {},
     "output_type": "execute_result"
    }
   ],
   "source": [
    "forecast = m.predict(future.interpolate())\n",
    "forecast[['ds','yhat', 'yhat_lower', 'yhat_upper']].tail()\n"
   ]
  },
  {
   "cell_type": "code",
   "execution_count": 52,
   "id": "absent-wednesday",
   "metadata": {},
   "outputs": [
    {
     "data": {
      "image/png": "[encoded data removed]",
      "text/plain": [
       "<Figure size 720x432 with 1 Axes>"
      ]
     },
     "metadata": {},
     "output_type": "display_data"
    }
   ],
   "source": [
    "fig = m.plot(forecast)"
   ]
  },
  {
   "cell_type": "code",
   "execution_count": 53,
   "id": "pleased-copper",
   "metadata": {
    "scrolled": true
   },
   "outputs": [
    {
     "data": {
      "image/png": "[encoded data removed]",
      "text/plain": [
       "<Figure size 648x432 with 2 Axes>"
      ]
     },
     "metadata": {},
     "output_type": "display_data"
    }
   ],
   "source": [
    "fig2 = m.plot_components(forecast)\n"
   ]
  },
  {
   "cell_type": "code",
   "execution_count": 54,
   "id": "affiliated-measure",
   "metadata": {},
   "outputs": [
    {
     "name": "stderr",
     "output_type": "stream",
     "text": [
      "INFO:prophet:Making 2 forecasts with cutoffs between 2018-01-02 05:45:00 and 2018-01-02 11:45:00\n"
     ]
    },
    {
     "ename": "ImportError",
     "evalue": "IProgress not found. Please update jupyter and ipywidgets. See https://ipywidgets.readthedocs.io/en/stable/user_install.html",
     "output_type": "error",
     "traceback": [
      "\u001b[1;31m---------------------------------------------------------------------------\u001b[0m",
      "\u001b[1;31mImportError\u001b[0m                               Traceback (most recent call last)",
      "\u001b[1;32m<ipython-input-54-0598753da470>\u001b[0m in \u001b[0;36m<module>\u001b[1;34m\u001b[0m\n\u001b[0;32m      1\u001b[0m \u001b[1;32mfrom\u001b[0m \u001b[0mprophet\u001b[0m\u001b[1;33m.\u001b[0m\u001b[0mdiagnostics\u001b[0m \u001b[1;32mimport\u001b[0m \u001b[0mcross_validation\u001b[0m\u001b[1;33m\u001b[0m\u001b[1;33m\u001b[0m\u001b[0m\n\u001b[1;32m----> 2\u001b[1;33m \u001b[0mdf_cv\u001b[0m \u001b[1;33m=\u001b[0m \u001b[0mcross_validation\u001b[0m\u001b[1;33m(\u001b[0m\u001b[0mm\u001b[0m\u001b[1;33m,\u001b[0m \u001b[0minitial\u001b[0m\u001b[1;33m=\u001b[0m\u001b[1;34m'24 Hours'\u001b[0m\u001b[1;33m,\u001b[0m \u001b[0mperiod\u001b[0m\u001b[1;33m=\u001b[0m\u001b[1;34m'6 Hours'\u001b[0m\u001b[1;33m,\u001b[0m \u001b[0mhorizon\u001b[0m \u001b[1;33m=\u001b[0m \u001b[1;34m'12 Hours'\u001b[0m\u001b[1;33m)\u001b[0m\u001b[1;33m\u001b[0m\u001b[1;33m\u001b[0m\u001b[0m\n\u001b[0m\u001b[0;32m      3\u001b[0m \u001b[0mdf_cv\u001b[0m\u001b[1;33m.\u001b[0m\u001b[0mhead\u001b[0m\u001b[1;33m(\u001b[0m\u001b[1;33m)\u001b[0m\u001b[1;33m\u001b[0m\u001b[1;33m\u001b[0m\u001b[0m\n",
      "\u001b[1;32m~\\Miniconda3\\lib\\site-packages\\prophet\\diagnostics.py\u001b[0m in \u001b[0;36mcross_validation\u001b[1;34m(model, horizon, period, initial, parallel, cutoffs, disable_tqdm)\u001b[0m\n\u001b[0;32m    196\u001b[0m         predicts = [\n\u001b[0;32m    197\u001b[0m             \u001b[0msingle_cutoff_forecast\u001b[0m\u001b[1;33m(\u001b[0m\u001b[0mdf\u001b[0m\u001b[1;33m,\u001b[0m \u001b[0mmodel\u001b[0m\u001b[1;33m,\u001b[0m \u001b[0mcutoff\u001b[0m\u001b[1;33m,\u001b[0m \u001b[0mhorizon\u001b[0m\u001b[1;33m,\u001b[0m \u001b[0mpredict_columns\u001b[0m\u001b[1;33m)\u001b[0m\u001b[1;33m\u001b[0m\u001b[1;33m\u001b[0m\u001b[0m\n\u001b[1;32m--> 198\u001b[1;33m             \u001b[1;32mfor\u001b[0m \u001b[0mcutoff\u001b[0m \u001b[1;32min\u001b[0m \u001b[1;33m(\u001b[0m\u001b[0mtqdm\u001b[0m\u001b[1;33m(\u001b[0m\u001b[0mcutoffs\u001b[0m\u001b[1;33m)\u001b[0m \u001b[1;32mif\u001b[0m \u001b[1;32mnot\u001b[0m \u001b[0mdisable_tqdm\u001b[0m \u001b[1;32melse\u001b[0m \u001b[0mcutoffs\u001b[0m\u001b[1;33m)\u001b[0m\u001b[1;33m\u001b[0m\u001b[1;33m\u001b[0m\u001b[0m\n\u001b[0m\u001b[0;32m    199\u001b[0m         ]\n\u001b[0;32m    200\u001b[0m \u001b[1;33m\u001b[0m\u001b[0m\n",
      "\u001b[1;32m~\\Miniconda3\\lib\\site-packages\\tqdm\\notebook.py\u001b[0m in \u001b[0;36m__init__\u001b[1;34m(self, *args, **kwargs)\u001b[0m\n\u001b[0;32m    221\u001b[0m         \u001b[0munit_scale\u001b[0m \u001b[1;33m=\u001b[0m \u001b[1;36m1\u001b[0m \u001b[1;32mif\u001b[0m \u001b[0mself\u001b[0m\u001b[1;33m.\u001b[0m\u001b[0munit_scale\u001b[0m \u001b[1;32mis\u001b[0m \u001b[1;32mTrue\u001b[0m \u001b[1;32melse\u001b[0m \u001b[0mself\u001b[0m\u001b[1;33m.\u001b[0m\u001b[0munit_scale\u001b[0m \u001b[1;32mor\u001b[0m \u001b[1;36m1\u001b[0m\u001b[1;33m\u001b[0m\u001b[1;33m\u001b[0m\u001b[0m\n\u001b[0;32m    222\u001b[0m         \u001b[0mtotal\u001b[0m \u001b[1;33m=\u001b[0m \u001b[0mself\u001b[0m\u001b[1;33m.\u001b[0m\u001b[0mtotal\u001b[0m \u001b[1;33m*\u001b[0m \u001b[0munit_scale\u001b[0m \u001b[1;32mif\u001b[0m \u001b[0mself\u001b[0m\u001b[1;33m.\u001b[0m\u001b[0mtotal\u001b[0m \u001b[1;32melse\u001b[0m \u001b[0mself\u001b[0m\u001b[1;33m.\u001b[0m\u001b[0mtotal\u001b[0m\u001b[1;33m\u001b[0m\u001b[1;33m\u001b[0m\u001b[0m\n\u001b[1;32m--> 223\u001b[1;33m         self.container = self.status_printer(\n\u001b[0m\u001b[0;32m    224\u001b[0m             self.fp, total, self.desc, self.ncols)\n\u001b[0;32m    225\u001b[0m         \u001b[0mself\u001b[0m\u001b[1;33m.\u001b[0m\u001b[0msp\u001b[0m \u001b[1;33m=\u001b[0m \u001b[0mself\u001b[0m\u001b[1;33m.\u001b[0m\u001b[0mdisplay\u001b[0m\u001b[1;33m\u001b[0m\u001b[1;33m\u001b[0m\u001b[0m\n",
      "\u001b[1;32m~\\Miniconda3\\lib\\site-packages\\tqdm\\notebook.py\u001b[0m in \u001b[0;36mstatus_printer\u001b[1;34m(_, total, desc, ncols)\u001b[0m\n\u001b[0;32m     94\u001b[0m         \u001b[1;31m# Prepare IPython progress bar\u001b[0m\u001b[1;33m\u001b[0m\u001b[1;33m\u001b[0m\u001b[1;33m\u001b[0m\u001b[0m\n\u001b[0;32m     95\u001b[0m         \u001b[1;32mif\u001b[0m \u001b[0mIProgress\u001b[0m \u001b[1;32mis\u001b[0m \u001b[1;32mNone\u001b[0m\u001b[1;33m:\u001b[0m  \u001b[1;31m# #187 #451 #558 #872\u001b[0m\u001b[1;33m\u001b[0m\u001b[1;33m\u001b[0m\u001b[0m\n\u001b[1;32m---> 96\u001b[1;33m             raise ImportError(\n\u001b[0m\u001b[0;32m     97\u001b[0m                 \u001b[1;34m\"IProgress not found. Please update jupyter and ipywidgets.\"\u001b[0m\u001b[1;33m\u001b[0m\u001b[1;33m\u001b[0m\u001b[0m\n\u001b[0;32m     98\u001b[0m                 \u001b[1;34m\" See https://ipywidgets.readthedocs.io/en/stable\"\u001b[0m\u001b[1;33m\u001b[0m\u001b[1;33m\u001b[0m\u001b[0m\n",
      "\u001b[1;31mImportError\u001b[0m: IProgress not found. Please update jupyter and ipywidgets. See https://ipywidgets.readthedocs.io/en/stable/user_install.html"
     ]
    }
   ],
   "source": [
    "from prophet.diagnostics import cross_validation\n",
    "df_cv = cross_validation(m, initial='24 Hours', period='6 Hours', horizon = '12 Hours')\n",
    "df_cv.head()\n"
   ]
  }
 ],
 "metadata": {
  "kernelspec": {
   "display_name": "Python 3",
   "language": "python",
   "name": "python3"
  },
  "language_info": {
   "codemirror_mode": {
    "name": "ipython",
    "version": 3
   },
   "file_extension": ".py",
   "mimetype": "text/x-python",
   "name": "python",
   "nbconvert_exporter": "python",
   "pygments_lexer": "ipython3",
   "version": "3.8.5"
  }
 },
 "nbformat": 4,
 "nbformat_minor": 5
}
